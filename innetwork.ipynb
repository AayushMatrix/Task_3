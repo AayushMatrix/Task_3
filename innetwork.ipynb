{
 "cells": [
  {
   "cell_type": "code",
   "execution_count": 1,
   "id": "c972b5de-1d17-44b3-b771-f256fb008d39",
   "metadata": {},
   "outputs": [
    {
     "name": "stderr",
     "output_type": "stream",
     "text": [
      "25/04/28 14:11:47 WARN Utils: Your hostname, aayushgyawali resolves to a loopback address: 127.0.1.1; using 10.10.42.111 instead (on interface enp2s0)\n",
      "25/04/28 14:11:47 WARN Utils: Set SPARK_LOCAL_IP if you need to bind to another address\n",
      "Setting default log level to \"WARN\".\n",
      "To adjust logging level use sc.setLogLevel(newLevel). For SparkR, use setLogLevel(newLevel).\n",
      "25/04/28 14:11:48 WARN NativeCodeLoader: Unable to load native-hadoop library for your platform... using builtin-java classes where applicable\n"
     ]
    }
   ],
   "source": [
    "from pyspark.sql import SparkSession\n",
    "from pyspark.sql.functions import col, explode,hash,array\n",
    "\n",
    "spark=SparkSession.builder.appName(\"negotiated_tare\").config(\"spark.driver.memory\",\"4g\").getOrCreate()\n"
   ]
  },
  {
   "cell_type": "code",
   "execution_count": 2,
   "id": "1336fcdc-9ecb-4fa7-8eb8-d744826d88a8",
   "metadata": {},
   "outputs": [],
   "source": [
    "\n",
    "# df = spark.read.option(\"multiline\",True).json(\"innetwork.json\")\n",
    "# _schema=billing_code string"
   ]
  },
  {
   "cell_type": "code",
   "execution_count": 3,
   "id": "bfb5ccc4-79c4-47d3-b31b-436bb39316b7",
   "metadata": {},
   "outputs": [
    {
     "name": "stderr",
     "output_type": "stream",
     "text": [
      "                                                                                "
     ]
    },
    {
     "name": "stdout",
     "output_type": "stream",
     "text": [
      "root\n",
      " |-- billing_code: string (nullable = true)\n",
      " |-- billing_code_type: string (nullable = true)\n",
      " |-- billing_code_type_version: string (nullable = true)\n",
      " |-- description: string (nullable = true)\n",
      " |-- name: string (nullable = true)\n",
      " |-- negotiated_rates: array (nullable = true)\n",
      " |    |-- element: struct (containsNull = true)\n",
      " |    |    |-- negotiated_prices: array (nullable = true)\n",
      " |    |    |    |-- element: struct (containsNull = true)\n",
      " |    |    |    |    |-- additional_information: string (nullable = true)\n",
      " |    |    |    |    |-- billing_class: string (nullable = true)\n",
      " |    |    |    |    |-- billing_code_modifier: array (nullable = true)\n",
      " |    |    |    |    |    |-- element: string (containsNull = true)\n",
      " |    |    |    |    |-- expiration_date: string (nullable = true)\n",
      " |    |    |    |    |-- negotiated_rate: double (nullable = true)\n",
      " |    |    |    |    |-- negotiated_type: string (nullable = true)\n",
      " |    |    |    |    |-- service_code: array (nullable = true)\n",
      " |    |    |    |    |    |-- element: string (containsNull = true)\n",
      " |    |    |-- provider_references: array (nullable = true)\n",
      " |    |    |    |-- element: long (containsNull = true)\n",
      " |-- negotiation_arrangement: string (nullable = true)\n",
      "\n"
     ]
    }
   ],
   "source": [
    "df = spark.read.option(\"multiline\",True).json(\"innetwork.json\")\n",
    "df.printSchema()"
   ]
  },
  {
   "cell_type": "code",
   "execution_count": 4,
   "id": "7161ea28-d75c-4741-ae17-3b572e184416",
   "metadata": {},
   "outputs": [
    {
     "name": "stderr",
     "output_type": "stream",
     "text": [
      "25/04/28 14:12:01 WARN GarbageCollectionMetrics: To enable non-built-in garbage collector(s) List(G1 Concurrent GC), users should configure it(them) to spark.eventLog.gcMetrics.youngGenerationGarbageCollectors or spark.eventLog.gcMetrics.oldGenerationGarbageCollectors\n",
      "                                                                                "
     ]
    },
    {
     "name": "stdout",
     "output_type": "stream",
     "text": [
      "+------------+-----------------+-----------------------+---------------------+-------------+---------------+------------+--------------------+---------------+\n",
      "|billing_code|billing_code_type|negotiation_arrangement|billing_code_modifier|billing_class|negotiated_rate|service_code|   provided_group_id|negotiated_type|\n",
      "+------------+-----------------+-----------------------+---------------------+-------------+---------------+------------+--------------------+---------------+\n",
      "|       PEMG1|              CPT|                    ffs|                 NULL| professional|           70.0|        [11]|[10001001, 100020...|     negotiated|\n",
      "|       PEMG1|              CPT|                    ffs|                 NULL| professional|           77.0|        [11]|          [10048001]|     negotiated|\n",
      "|       PEMG1|              CPT|                    ffs|                 NULL| professional|         119.97|        [11]|          [10077001]|     negotiated|\n",
      "|       PEMG1|              CPT|                    ffs|                 NULL| professional|           94.5|        [11]|          [10087001]|     negotiated|\n",
      "|       PEMG1|              CPT|                    ffs|                 NULL| professional|         141.51|        [11]|[10152001, 10153001]|     negotiated|\n",
      "|       PEMG1|              CPT|                    ffs|                 NULL| professional|           84.0|        [11]|[10187001, 10395001]|     negotiated|\n",
      "|       PEMG1|              CPT|                    ffs|                 NULL| professional|          106.4|        [11]|          [10259001]|     negotiated|\n",
      "|       PEMG1|              CPT|                    ffs|                 NULL| professional|          108.5|        [11]|          [10286001]|     negotiated|\n",
      "|       PEMG1|              CPT|                    ffs|                 NULL| professional|          105.0|        [11]|[10313001, 10399001]|     negotiated|\n",
      "|       27157|              CPT|                    ffs|                 NULL| professional|         2420.0|        [11]|          [10038001]|     negotiated|\n",
      "|       27157|              CPT|                    ffs|                 NULL| professional|         4447.4|        [11]|[10152001, 10153001]|     negotiated|\n",
      "|       27157|              CPT|                    ffs|                 NULL| professional|         2640.0|        [11]|[10187001, 10395001]|     negotiated|\n",
      "|       27157|              CPT|                    ffs|                 NULL| professional|         2200.0|        [11]|[10258001, 102680...|     negotiated|\n",
      "|       27157|              CPT|                    ffs|                 NULL| professional|         3410.0|        [11]|          [10286001]|     negotiated|\n",
      "|       27157|              CPT|                    ffs|                 NULL| professional|         3300.0|        [11]|[10313001, 10399001]|     negotiated|\n",
      "|       82112|              CPT|                    ffs|                 NULL| professional|           17.5|        [11]|[10001001, 100020...|     negotiated|\n",
      "|       82112|              CPT|                    ffs|                 NULL| professional|          15.75|        [11]|[10014001, 101540...|     negotiated|\n",
      "|       82112|              CPT|                    ffs|                 NULL| professional|          19.25|        [11]|[10029001, 10048001]|     negotiated|\n",
      "|       82112|              CPT|                    ffs|                 NULL| professional|          29.99|        [11]|          [10077001]|     negotiated|\n",
      "|       82112|              CPT|                    ffs|                 NULL| professional|          23.63|        [11]|[10087001, 103130...|     negotiated|\n",
      "+------------+-----------------+-----------------------+---------------------+-------------+---------------+------------+--------------------+---------------+\n",
      "only showing top 20 rows\n",
      "\n"
     ]
    }
   ],
   "source": [
    "negotiated_rates_df =df.withColumn(\"row1\",explode(\"negotiated_rates\"))\n",
    "negotiated_prices_df = negotiated_rates_df.withColumn(\"row2\",explode(\"row1.negotiated_prices\"))\n",
    "\n",
    "rate_df = negotiated_prices_df.select(\"billing_code\",\"billing_code_type\",\"negotiation_arrangement\",\n",
    "                                      col(\"row2.billing_code_modifier\").alias(\"billing_code_modifier\"),\n",
    "                                      col(\"row2.billing_class\").alias(\"billing_class\"),\n",
    "                                      col(\"row2.negotiated_rate\").alias(\"negotiated_rate\"),\n",
    "                                      col(\"row2.service_code\").alias(\"service_code\"),\n",
    "                                      col(\"row1.provider_references\").alias(\"provided_group_id\"),\n",
    "                                      col(\"row2.negotiated_type\").alias(\"negotiated_type\"))\n",
    "rate_df.show()"
   ]
  },
  {
   "cell_type": "code",
   "execution_count": null,
   "id": "5f8cfeea-1436-4566-b1dd-4e402172a4b5",
   "metadata": {},
   "outputs": [],
   "source": []
  },
  {
   "cell_type": "markdown",
   "id": "b0bcd2cc-747b-4d6d-a939-14543c1bd175",
   "metadata": {},
   "source": [
    "## Hashing service_code"
   ]
  },
  {
   "cell_type": "code",
   "execution_count": 5,
   "id": "7b314a93-6c1e-4ae2-ab75-af41c1deda9d",
   "metadata": {},
   "outputs": [
    {
     "name": "stderr",
     "output_type": "stream",
     "text": [
      "[Stage 2:>                                                          (0 + 1) / 1]"
     ]
    },
    {
     "name": "stdout",
     "output_type": "stream",
     "text": [
      "+------------+-----------------+-----------------------+---------------------+-------------+---------------+------------+--------------------+---------------+\n",
      "|billing_code|billing_code_type|negotiation_arrangement|billing_code_modifier|billing_class|negotiated_rate|service_code|   provided_group_id|negotiated_type|\n",
      "+------------+-----------------+-----------------------+---------------------+-------------+---------------+------------+--------------------+---------------+\n",
      "|       PEMG1|              CPT|                    ffs|                 NULL| professional|           70.0| -1726485189|[10001001, 100020...|     negotiated|\n",
      "|       PEMG1|              CPT|                    ffs|                 NULL| professional|           77.0| -1726485189|          [10048001]|     negotiated|\n",
      "|       PEMG1|              CPT|                    ffs|                 NULL| professional|         119.97| -1726485189|          [10077001]|     negotiated|\n",
      "|       PEMG1|              CPT|                    ffs|                 NULL| professional|           94.5| -1726485189|          [10087001]|     negotiated|\n",
      "|       PEMG1|              CPT|                    ffs|                 NULL| professional|         141.51| -1726485189|[10152001, 10153001]|     negotiated|\n",
      "|       PEMG1|              CPT|                    ffs|                 NULL| professional|           84.0| -1726485189|[10187001, 10395001]|     negotiated|\n",
      "|       PEMG1|              CPT|                    ffs|                 NULL| professional|          106.4| -1726485189|          [10259001]|     negotiated|\n",
      "|       PEMG1|              CPT|                    ffs|                 NULL| professional|          108.5| -1726485189|          [10286001]|     negotiated|\n",
      "|       PEMG1|              CPT|                    ffs|                 NULL| professional|          105.0| -1726485189|[10313001, 10399001]|     negotiated|\n",
      "|       27157|              CPT|                    ffs|                 NULL| professional|         2420.0| -1726485189|          [10038001]|     negotiated|\n",
      "|       27157|              CPT|                    ffs|                 NULL| professional|         4447.4| -1726485189|[10152001, 10153001]|     negotiated|\n",
      "|       27157|              CPT|                    ffs|                 NULL| professional|         2640.0| -1726485189|[10187001, 10395001]|     negotiated|\n",
      "|       27157|              CPT|                    ffs|                 NULL| professional|         2200.0| -1726485189|[10258001, 102680...|     negotiated|\n",
      "|       27157|              CPT|                    ffs|                 NULL| professional|         3410.0| -1726485189|          [10286001]|     negotiated|\n",
      "|       27157|              CPT|                    ffs|                 NULL| professional|         3300.0| -1726485189|[10313001, 10399001]|     negotiated|\n",
      "|       82112|              CPT|                    ffs|                 NULL| professional|           17.5| -1726485189|[10001001, 100020...|     negotiated|\n",
      "|       82112|              CPT|                    ffs|                 NULL| professional|          15.75| -1726485189|[10014001, 101540...|     negotiated|\n",
      "|       82112|              CPT|                    ffs|                 NULL| professional|          19.25| -1726485189|[10029001, 10048001]|     negotiated|\n",
      "|       82112|              CPT|                    ffs|                 NULL| professional|          29.99| -1726485189|          [10077001]|     negotiated|\n",
      "|       82112|              CPT|                    ffs|                 NULL| professional|          23.63| -1726485189|[10087001, 103130...|     negotiated|\n",
      "+------------+-----------------+-----------------------+---------------------+-------------+---------------+------------+--------------------+---------------+\n",
      "only showing top 20 rows\n",
      "\n",
      "root\n",
      " |-- billing_code: string (nullable = true)\n",
      " |-- billing_code_type: string (nullable = true)\n",
      " |-- negotiation_arrangement: string (nullable = true)\n",
      " |-- billing_code_modifier: array (nullable = true)\n",
      " |    |-- element: string (containsNull = true)\n",
      " |-- billing_class: string (nullable = true)\n",
      " |-- negotiated_rate: double (nullable = true)\n",
      " |-- service_code: integer (nullable = false)\n",
      " |-- provided_group_id: array (nullable = true)\n",
      " |    |-- element: long (containsNull = true)\n",
      " |-- negotiated_type: string (nullable = true)\n",
      "\n"
     ]
    },
    {
     "name": "stderr",
     "output_type": "stream",
     "text": [
      "                                                                                "
     ]
    }
   ],
   "source": [
    "hashing_df=rate_df.withColumn(\"service_code\",hash(\"service_code\"))\n",
    "hashing_df.show()\n",
    "hashing_df.printSchema()"
   ]
  },
  {
   "cell_type": "markdown",
   "id": "df5cdf33-5c8f-4895-b8cd-302a856d5f05",
   "metadata": {},
   "source": [
    "## Rename"
   ]
  },
  {
   "cell_type": "code",
   "execution_count": 6,
   "id": "576f8f7d-68f3-44d7-a9c1-f33ec425c1f6",
   "metadata": {},
   "outputs": [
    {
     "name": "stderr",
     "output_type": "stream",
     "text": [
      "[Stage 3:>                                                          (0 + 1) / 1]"
     ]
    },
    {
     "name": "stdout",
     "output_type": "stream",
     "text": [
      "+-----+---+----+----+------------+------+-----------+--------------------+----------+\n",
      "|   bC|bCT|negA| mdH|        bCls|  negR|       poSH|   provided_group_id|      negT|\n",
      "+-----+---+----+----+------------+------+-----------+--------------------+----------+\n",
      "|PEMG1|CPT| ffs|NULL|professional|  70.0|-1726485189|[10001001, 100020...|negotiated|\n",
      "|PEMG1|CPT| ffs|NULL|professional|  77.0|-1726485189|          [10048001]|negotiated|\n",
      "|PEMG1|CPT| ffs|NULL|professional|119.97|-1726485189|          [10077001]|negotiated|\n",
      "|PEMG1|CPT| ffs|NULL|professional|  94.5|-1726485189|          [10087001]|negotiated|\n",
      "|PEMG1|CPT| ffs|NULL|professional|141.51|-1726485189|[10152001, 10153001]|negotiated|\n",
      "|PEMG1|CPT| ffs|NULL|professional|  84.0|-1726485189|[10187001, 10395001]|negotiated|\n",
      "|PEMG1|CPT| ffs|NULL|professional| 106.4|-1726485189|          [10259001]|negotiated|\n",
      "|PEMG1|CPT| ffs|NULL|professional| 108.5|-1726485189|          [10286001]|negotiated|\n",
      "|PEMG1|CPT| ffs|NULL|professional| 105.0|-1726485189|[10313001, 10399001]|negotiated|\n",
      "|27157|CPT| ffs|NULL|professional|2420.0|-1726485189|          [10038001]|negotiated|\n",
      "|27157|CPT| ffs|NULL|professional|4447.4|-1726485189|[10152001, 10153001]|negotiated|\n",
      "|27157|CPT| ffs|NULL|professional|2640.0|-1726485189|[10187001, 10395001]|negotiated|\n",
      "|27157|CPT| ffs|NULL|professional|2200.0|-1726485189|[10258001, 102680...|negotiated|\n",
      "|27157|CPT| ffs|NULL|professional|3410.0|-1726485189|          [10286001]|negotiated|\n",
      "|27157|CPT| ffs|NULL|professional|3300.0|-1726485189|[10313001, 10399001]|negotiated|\n",
      "|82112|CPT| ffs|NULL|professional|  17.5|-1726485189|[10001001, 100020...|negotiated|\n",
      "|82112|CPT| ffs|NULL|professional| 15.75|-1726485189|[10014001, 101540...|negotiated|\n",
      "|82112|CPT| ffs|NULL|professional| 19.25|-1726485189|[10029001, 10048001]|negotiated|\n",
      "|82112|CPT| ffs|NULL|professional| 29.99|-1726485189|          [10077001]|negotiated|\n",
      "|82112|CPT| ffs|NULL|professional| 23.63|-1726485189|[10087001, 103130...|negotiated|\n",
      "+-----+---+----+----+------------+------+-----------+--------------------+----------+\n",
      "only showing top 20 rows\n",
      "\n"
     ]
    },
    {
     "name": "stderr",
     "output_type": "stream",
     "text": [
      "                                                                                "
     ]
    }
   ],
   "source": [
    "\n"
   ]
  },
  {
   "cell_type": "code",
   "execution_count": 7,
   "id": "927f1ecf-f2fd-4df9-9c1d-1deea3194dc4",
   "metadata": {},
   "outputs": [
    {
     "name": "stdout",
     "output_type": "stream",
     "text": [
      "root\n",
      " |-- bC: string (nullable = true)\n",
      " |-- bCT: string (nullable = true)\n",
      " |-- negA: string (nullable = true)\n",
      " |-- mdH: array (nullable = true)\n",
      " |    |-- element: string (containsNull = true)\n",
      " |-- bCls: string (nullable = true)\n",
      " |-- negR: double (nullable = true)\n",
      " |-- poSH: integer (nullable = false)\n",
      " |-- provided_group_id: array (nullable = true)\n",
      " |    |-- element: long (containsNull = true)\n",
      " |-- negT: string (nullable = true)\n",
      "\n"
     ]
    }
   ],
   "source": [
    "renamecol_df.printSchema()\n"
   ]
  },
  {
   "cell_type": "code",
   "execution_count": 8,
   "id": "56fcb88e-1479-4af0-814d-db060d0598ad",
   "metadata": {},
   "outputs": [
    {
     "name": "stderr",
     "output_type": "stream",
     "text": [
      "                                                                                "
     ]
    },
    {
     "data": {
      "text/plain": [
       "97508"
      ]
     },
     "execution_count": 8,
     "metadata": {},
     "output_type": "execute_result"
    }
   ],
   "source": [
    "rate_df.filter(rate_df.billing_code_modifier.isNotNull()).count()"
   ]
  },
  {
   "cell_type": "code",
   "execution_count": 9,
   "id": "9e50ae87-8368-46d2-8b7d-e971737ba997",
   "metadata": {},
   "outputs": [
    {
     "name": "stdout",
     "output_type": "stream",
     "text": [
      "root\n",
      " |-- bC: string (nullable = true)\n",
      " |-- bCT: string (nullable = true)\n",
      " |-- negA: string (nullable = true)\n",
      " |-- mdH: array (nullable = true)\n",
      " |    |-- element: string (containsNull = true)\n",
      " |-- bCls: string (nullable = true)\n",
      " |-- negR: double (nullable = true)\n",
      " |-- poSH: array (nullable = false)\n",
      " |    |-- element: integer (containsNull = false)\n",
      " |-- provided_group_id: array (nullable = true)\n",
      " |    |-- element: long (containsNull = true)\n",
      " |-- negT: string (nullable = true)\n",
      "\n"
     ]
    }
   ],
   "source": [
    "df_cast = renamecol_df.withColumn(\"poSH\",array(col(\"poSH\")))\n",
    "df_cast.printSchema()"
   ]
  },
  {
   "cell_type": "code",
   "execution_count": 10,
   "id": "a22241dc-1d9c-4392-8ba2-f55353d5f309",
   "metadata": {},
   "outputs": [
    {
     "name": "stderr",
     "output_type": "stream",
     "text": [
      "                                                                                "
     ]
    }
   ],
   "source": [
    "df_cast.toPandas().to_json('output2.json', orient='records')\n"
   ]
  },
  {
   "cell_type": "code",
   "execution_count": null,
   "id": "94de40ea-f539-4fbe-9d0e-3ce5819850cc",
   "metadata": {},
   "outputs": [],
   "source": [
    "bcls"
   ]
  }
 ],
 "metadata": {
  "kernelspec": {
   "display_name": "Python 3 (ipykernel)",
   "language": "python",
   "name": "python3"
  },
  "language_info": {
   "codemirror_mode": {
    "name": "ipython",
    "version": 3
   },
   "file_extension": ".py",
   "mimetype": "text/x-python",
   "name": "python",
   "nbconvert_exporter": "python",
   "pygments_lexer": "ipython3",
   "version": "3.10.12"
  }
 },
 "nbformat": 4,
 "nbformat_minor": 5
}
