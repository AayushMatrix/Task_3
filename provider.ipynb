{
 "cells": [
  {
   "cell_type": "code",
   "execution_count": 1,
   "id": "4b3e94cf-7004-436e-8b31-2d2b8a8a649c",
   "metadata": {},
   "outputs": [],
   "source": [
    "from pyspark.sql import SparkSession"
   ]
  },
  {
   "cell_type": "code",
   "execution_count": 2,
   "id": "2435c070-a60f-4a41-be0c-16594c40dd79",
   "metadata": {},
   "outputs": [
    {
     "name": "stderr",
     "output_type": "stream",
     "text": [
      "25/04/28 13:28:22 WARN Utils: Your hostname, aayushgyawali resolves to a loopback address: 127.0.1.1; using 10.10.42.111 instead (on interface enp2s0)\n",
      "25/04/28 13:28:22 WARN Utils: Set SPARK_LOCAL_IP if you need to bind to another address\n",
      "Setting default log level to \"WARN\".\n",
      "To adjust logging level use sc.setLogLevel(newLevel). For SparkR, use setLogLevel(newLevel).\n",
      "25/04/28 13:28:23 WARN NativeCodeLoader: Unable to load native-hadoop library for your platform... using builtin-java classes where applicable\n"
     ]
    },
    {
     "data": {
      "text/html": [
       "\n",
       "            <div>\n",
       "                <p><b>SparkSession - in-memory</b></p>\n",
       "                \n",
       "        <div>\n",
       "            <p><b>SparkContext</b></p>\n",
       "\n",
       "            <p><a href=\"http://10.10.42.111:4040\">Spark UI</a></p>\n",
       "\n",
       "            <dl>\n",
       "              <dt>Version</dt>\n",
       "                <dd><code>v3.5.5</code></dd>\n",
       "              <dt>Master</dt>\n",
       "                <dd><code>local[*]</code></dd>\n",
       "              <dt>AppName</dt>\n",
       "                <dd><code>transfrom</code></dd>\n",
       "            </dl>\n",
       "        </div>\n",
       "        \n",
       "            </div>\n",
       "        "
      ],
      "text/plain": [
       "<pyspark.sql.session.SparkSession at 0x763f8c191540>"
      ]
     },
     "execution_count": 2,
     "metadata": {},
     "output_type": "execute_result"
    }
   ],
   "source": [
    "spark=SparkSession.builder.appName(\"transfrom\").getOrCreate()\n",
    "spark"
   ]
  },
  {
   "cell_type": "code",
   "execution_count": 3,
   "id": "5bb2d581-2111-4769-8d5c-7ea925113b1c",
   "metadata": {},
   "outputs": [
    {
     "name": "stderr",
     "output_type": "stream",
     "text": [
      "                                                                                "
     ]
    },
    {
     "name": "stdout",
     "output_type": "stream",
     "text": [
      "+-----------------+--------------------+\n",
      "|provider_group_id|     provider_groups|\n",
      "+-----------------+--------------------+\n",
      "|         10001001|[{[1235233008, 13...|\n",
      "|         10002001|[{[1609829761, 18...|\n",
      "|         10003001|[{[1720350119], {...|\n",
      "|         10004001|[{[1417152349, 16...|\n",
      "|         10006001|[{[1043293582, 19...|\n",
      "|         10007001|[{[1275520645], {...|\n",
      "|         10008001|[{[1114026911], {...|\n",
      "|         10009001|[{[1003084302, 10...|\n",
      "|         10010001|[{[1710182167], {...|\n",
      "|         10011001|[{[1326039934, 14...|\n",
      "|         10012001|[{[1023093721, 12...|\n",
      "|         10013001|[{[1003127622, 10...|\n",
      "|         10014001|[{[1871582346], {...|\n",
      "|         10015001|[{[1194743344, 12...|\n",
      "|         10016001|[{[1003038530, 10...|\n",
      "|         10017001|[{[1063644110, 10...|\n",
      "|         10018001|[{[1003016411, 10...|\n",
      "|         10019001|[{[1083710446, 11...|\n",
      "|         10020001|[{[1740552942], {...|\n",
      "|         10021001|[{[1477653954], {...|\n",
      "+-----------------+--------------------+\n",
      "only showing top 20 rows\n",
      "\n",
      "root\n",
      " |-- provider_group_id: long (nullable = true)\n",
      " |-- provider_groups: array (nullable = true)\n",
      " |    |-- element: struct (containsNull = true)\n",
      " |    |    |-- npi: array (nullable = true)\n",
      " |    |    |    |-- element: long (containsNull = true)\n",
      " |    |    |-- tin: struct (nullable = true)\n",
      " |    |    |    |-- type: string (nullable = true)\n",
      " |    |    |    |-- value: string (nullable = true)\n",
      "\n"
     ]
    }
   ],
   "source": [
    "df = spark.read.option(\"multiline\",True).json(\"provider.json\")\n",
    "df.show()\n",
    "\n",
    "\n",
    "\n",
    "df.printSchema()"
   ]
  },
  {
   "cell_type": "code",
   "execution_count": 4,
   "id": "62100d3b-43b6-49cb-bf3a-64933b852cfe",
   "metadata": {},
   "outputs": [
    {
     "name": "stdout",
     "output_type": "stream",
     "text": [
      "+-----------------+------------------------------------------------+--------+----------+\n",
      "|provider_group_id|npi                                             |tin_type|tin_value |\n",
      "+-----------------+------------------------------------------------+--------+----------+\n",
      "|10001001         |[1235233008, 1316041189, 1780788554, 1891068409]|ein     |04-3267217|\n",
      "|10001001         |[1366459570]                                    |ein     |11-1562701|\n",
      "|10001001         |[1417915653]                                    |ein     |11-3358535|\n",
      "|10001001         |[1417915653]                                    |ein     |13-3888838|\n",
      "|10002001         |[1609829761, 1821482241]                        |ein     |00-0004110|\n",
      "|10002001         |[1760986277]                                    |ein     |00-6980743|\n",
      "|10002001         |[1215075882]                                    |ein     |01-0550744|\n",
      "|10002001         |[1013917665]                                    |ein     |01-0555304|\n",
      "|10002001         |[1679780811, 1700093952, 1780072447, 1952532970]|ein     |01-0555483|\n",
      "|10002001         |[1376647511]                                    |ein     |01-0567880|\n",
      "|10002001         |[1740287010]                                    |ein     |01-0569673|\n",
      "|10002001         |[1265538219]                                    |ein     |01-0571165|\n",
      "|10002001         |[1689625253]                                    |ein     |01-0577025|\n",
      "|10002001         |[1184901563]                                    |ein     |01-0580565|\n",
      "|10002001         |[1609814490]                                    |ein     |01-0583000|\n",
      "|10002001         |[1720013139]                                    |ein     |01-0583099|\n",
      "|10002001         |[1528110244]                                    |ein     |01-0585989|\n",
      "|10002001         |[1073629994]                                    |ein     |01-0587168|\n",
      "|10002001         |[1376589770]                                    |ein     |01-0588426|\n",
      "|10002001         |[1588720619]                                    |ein     |01-0608157|\n",
      "+-----------------+------------------------------------------------+--------+----------+\n",
      "only showing top 20 rows\n",
      "\n"
     ]
    }
   ],
   "source": [
    "\n",
    "from pyspark.sql.functions import col, explode\n",
    "\n",
    "provider_df = df.withColumn(\"row\", explode(\"provider_groups\"))\n",
    "\n",
    "provider_flat = provider_df.select(\n",
    "    col(\"provider_group_id\"),\n",
    "    col(\"row.npi\").alias(\"npi\"),\n",
    "    col(\"row.tin.type\").alias(\"tin_type\"),\n",
    "    col(\"row.tin.value\").alias(\"tin_value\")\n",
    ")\n",
    "\n",
    "provider_flat.show(truncate=False)"
   ]
  },
  {
   "cell_type": "code",
   "execution_count": null,
   "id": "619487fe-9d0d-491d-a405-80af676e6d24",
   "metadata": {},
   "outputs": [],
   "source": []
  },
  {
   "cell_type": "code",
   "execution_count": 5,
   "id": "ec81a5c7-e480-4450-ae86-895e488536ce",
   "metadata": {},
   "outputs": [
    {
     "name": "stdout",
     "output_type": "stream",
     "text": [
      "+-----------------+--------------------+--------+---------+\n",
      "|provider_group_id|                 npi|tin_type|tin_value|\n",
      "+-----------------+--------------------+--------+---------+\n",
      "|         10001001|[1235233008, 1316...|     ein|043267217|\n",
      "|         10001001|        [1366459570]|     ein|111562701|\n",
      "|         10001001|        [1417915653]|     ein|113358535|\n",
      "|         10001001|        [1417915653]|     ein|133888838|\n",
      "|         10002001|[1609829761, 1821...|     ein|000004110|\n",
      "|         10002001|        [1760986277]|     ein|006980743|\n",
      "|         10002001|        [1215075882]|     ein|010550744|\n",
      "|         10002001|        [1013917665]|     ein|010555304|\n",
      "|         10002001|[1679780811, 1700...|     ein|010555483|\n",
      "|         10002001|        [1376647511]|     ein|010567880|\n",
      "|         10002001|        [1740287010]|     ein|010569673|\n",
      "|         10002001|        [1265538219]|     ein|010571165|\n",
      "|         10002001|        [1689625253]|     ein|010577025|\n",
      "|         10002001|        [1184901563]|     ein|010580565|\n",
      "|         10002001|        [1609814490]|     ein|010583000|\n",
      "|         10002001|        [1720013139]|     ein|010583099|\n",
      "|         10002001|        [1528110244]|     ein|010585989|\n",
      "|         10002001|        [1073629994]|     ein|010587168|\n",
      "|         10002001|        [1376589770]|     ein|010588426|\n",
      "|         10002001|        [1588720619]|     ein|010608157|\n",
      "+-----------------+--------------------+--------+---------+\n",
      "only showing top 20 rows\n",
      "\n"
     ]
    }
   ],
   "source": [
    "from pyspark.sql.functions import regexp_replace,col,expr,monotonically_increasing_id,hash,lit\n",
    "\n",
    "hypenrm_df=provider_flat.withColumn(\"tin_value\",regexp_replace(col(\"tin_value\"),\"-\",\"\"))\n",
    "hypenrm_df.show()"
   ]
  },
  {
   "cell_type": "code",
   "execution_count": 6,
   "id": "f95195c7-4529-4436-998f-5ea4d6b45df6",
   "metadata": {},
   "outputs": [
    {
     "name": "stdout",
     "output_type": "stream",
     "text": [
      "root\n",
      " |-- provider_group_id: long (nullable = true)\n",
      " |-- npi: array (nullable = true)\n",
      " |    |-- element: long (containsNull = true)\n",
      " |-- tin_type: string (nullable = true)\n",
      " |-- tin_value: string (nullable = true)\n",
      "\n"
     ]
    }
   ],
   "source": [
    "# hypenrm_df.write.json('pr.json')\n",
    "# hypenrm_df.toPandas().to_json('output.json', orient='records')\n",
    "hypenrm_df.printSchema()"
   ]
  },
  {
   "cell_type": "code",
   "execution_count": null,
   "id": "4a009ec9-12ea-4f0c-86ec-3d0967d0c1f1",
   "metadata": {},
   "outputs": [],
   "source": []
  }
 ],
 "metadata": {
  "kernelspec": {
   "display_name": "Python 3 (ipykernel)",
   "language": "python",
   "name": "python3"
  },
  "language_info": {
   "codemirror_mode": {
    "name": "ipython",
    "version": 3
   },
   "file_extension": ".py",
   "mimetype": "text/x-python",
   "name": "python",
   "nbconvert_exporter": "python",
   "pygments_lexer": "ipython3",
   "version": "3.10.12"
  }
 },
 "nbformat": 4,
 "nbformat_minor": 5
}
